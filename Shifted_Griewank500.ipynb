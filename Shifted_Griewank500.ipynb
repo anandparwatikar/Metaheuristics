{
 "cells": [
  {
   "cell_type": "code",
   "execution_count": 1,
   "metadata": {},
   "outputs": [],
   "source": [
    "import numpy as np\n",
    "import pandas as pd\n",
    "import os\n",
    "from scipy.optimize import minimize\n",
    "import matplotlib.pyplot as plt\n",
    "import time\n",
    "import pygmo as pg\n",
    "import math"
   ]
  },
  {
   "cell_type": "code",
   "execution_count": 2,
   "metadata": {},
   "outputs": [],
   "source": [
    "dataset = pd.read_csv(\"Griewank_dataset_data.csv\")\n",
    "Griewank_dataset = dataset[\"val\"].tolist()"
   ]
  },
  {
   "cell_type": "code",
   "execution_count": 3,
   "metadata": {},
   "outputs": [],
   "source": [
    "D = 500\n",
    "f_bias = -180\n",
    "lower_bound = -600\n",
    "upper_bound = 600"
   ]
  },
  {
   "cell_type": "code",
   "execution_count": 4,
   "metadata": {},
   "outputs": [],
   "source": [
    "def func(x):\n",
    "    F1 = 0\n",
    "    F2 = 1\n",
    "    for i in range(D - 1):\n",
    "        z = x[i] - Griewank_dataset[i]\n",
    "        F1 += z ** 2 / 4000\n",
    "        F2 += math.cos(z / math.sqrt(i + 1))\n",
    "    func = F1 - F2 + 1 + f_bias\n",
    "    return func"
   ]
  },
  {
   "cell_type": "code",
   "execution_count": 5,
   "metadata": {},
   "outputs": [],
   "source": [
    "class GW:\n",
    "    def __init__(self,xmin,xmax,D,f_bias):\n",
    "        self.lower_bound = xmin\n",
    "        self.upper_bound = xmax\n",
    "        self.dimension = D\n",
    "        self.fitness_per_eval = []\n",
    "        self.glob_opt = f_bias\n",
    "\n",
    "    def fitness(self, x):\n",
    "        #result = abs(func(x)-f_bias)\n",
    "        result = func(x)\n",
    "        return [result]\n",
    "\n",
    "    def get_bounds(self):\n",
    "        x_min = self.lower_bound * np.ones(self.dimension)\n",
    "        x_max = self.upper_bound * np.ones(self.dimension)\n",
    "        return x_min, x_max"
   ]
  },
  {
   "cell_type": "code",
   "execution_count": 6,
   "metadata": {},
   "outputs": [],
   "source": [
    "def compute(func):\n",
    "    global curve\n",
    "    global start_time\n",
    "    global end_time\n",
    "    start_time = time.time()\n",
    "    algo = pg.algorithm(pg.simulated_annealing(Ts=20., Tf=1e-5))\n",
    "    algo.set_verbosity(1)\n",
    "    popsize = 1\n",
    "    prob = pg.problem(GW(lower_bound,upper_bound,D,f_bias))\n",
    "    pop = pg.population(prob, popsize)\n",
    "    extract_algo = algo.extract(pg.simulated_annealing)\n",
    "    pop = algo.evolve(pop)\n",
    "    end_time = time.time()\n",
    "    \n",
    "    log = extract_algo.get_log()\n",
    "    curve = [x[2] for x in log]\n",
    "    #niter = log[-1][0]\n",
    "    niter = pop.problem.get_fevals()\n",
    "    print(\"Best position: \", pop.champion_x)\n",
    "    print(\"Best Fitness\",pop.champion_f[0])"
   ]
  },
  {
   "cell_type": "code",
   "execution_count": 7,
   "metadata": {},
   "outputs": [
    {
     "name": "stdout",
     "output_type": "stream",
     "text": [
      "Best position:  [ 546.43431324 -322.70190963  128.2132059   -16.89350941  469.53797014\n",
      "  329.85910299  -52.23216206 -577.93236983  404.43158141  -66.43504931\n",
      "  138.48010874  350.34597649  506.16013089  285.85595289 -364.36666901\n",
      " -113.14695841  522.57962327  473.89516159 -107.66931792  472.37535902\n",
      " -530.50480669 -176.51618802  375.80603965 -557.84952961 -433.36955308\n",
      " -356.71950505 -361.47090564  124.52632605 -273.33989883 -361.37795282\n",
      " -581.66151562  296.09395547  -65.95064966  518.01945116  -40.85444441\n",
      "  -97.63182102  415.50206383   30.26365908 -356.88493447  206.57123992\n",
      "  405.79184789 -576.33983232  217.51996654 -144.58774357  398.0766697\n",
      "    3.34945863  251.33061077  -85.37199004 -234.35491811 -372.45530277\n",
      " -367.91468614  218.48071698 -236.62404219   49.92856955 -418.99048233\n",
      "  237.49541063 -145.91150535  431.94750368  424.3839846   112.20495774\n",
      "   -4.11231763  479.77632405  386.02522325  125.18851734  381.60017971\n",
      "  192.24201348 -189.69161713 -252.39215502 -190.61343891   40.82471787\n",
      "  272.47362892 -228.79220647  406.3691776    81.61595964 -103.11812108\n",
      "  243.30339907   55.8746317   -66.04152877  233.47159621  145.25977823\n",
      "  353.73970316  548.3723896    27.13956671  456.18916853 -392.45169506\n",
      "  575.68582385 -274.27148521 -297.22659479  450.90184349  284.80275519\n",
      " -436.17811902 -585.99282234  472.741076   -360.93867529 -241.51770515\n",
      "  193.7294852  -258.6743758   -36.80725139 -522.34578276  586.06255627\n",
      "   99.29380617  -91.82309297   18.62664574 -199.13234426  -80.52216557\n",
      " -328.7784667    95.82379413  312.53348193   35.81975756  168.63256815\n",
      " -349.08520065 -144.1970912   339.9958845   217.00444353  -46.72472056\n",
      "   81.37289603  352.83347478 -528.86674149  123.30322916 -539.88043761\n",
      " -101.47187472 -234.0490957   449.30891742 -582.01596466  321.46842628\n",
      "  564.95994439  588.05390791  346.55552     -73.63580343   -2.05361338\n",
      " -343.25994751  172.17593788 -215.92097115  552.02525115  271.99020073\n",
      " -105.55834881  293.38875974 -278.55894299  -72.0930973   519.97443008\n",
      "  220.05627128 -344.92194234  407.0326857   154.52337737 -439.60751404\n",
      " -351.5449052   128.72832403  155.83602649 -155.35563885   90.01815457\n",
      "  -58.36089386 -547.28954378 -567.25267446 -224.81924802 -584.56872692\n",
      " -139.33445554  219.72072777 -488.56220155 -557.598315    134.84032638\n",
      "  130.18150982 -581.11817603 -580.1882664  -371.92028773  104.26258056\n",
      " -531.07851696 -159.02409255  157.73443961  261.04045653  231.25825423\n",
      " -499.10114763  -54.74723695  -69.718537   -176.14164357 -415.61588085\n",
      "  210.77109078  239.13853642  272.87947513  -25.87808555   65.8887452\n",
      " -454.90264293  -59.07814136  259.08131486  471.38177087 -272.07765804\n",
      " -294.28799074  438.69438107 -321.13328108  365.88610345  490.02145397\n",
      " -321.87841141 -312.86682309 -540.30703481 -506.08690865  169.01871079\n",
      " -370.67520153  412.84075144 -391.21116445 -395.12474366  593.12390817\n",
      "  -72.22771923 -191.88694969 -222.99793535 -161.86010647 -128.04098686\n",
      "  109.88082223 -456.34844372 -554.34498563  -49.60688685  443.75120626\n",
      "  521.02079335 -282.67860765 -407.69176775  447.48634364 -314.51544889\n",
      "  174.95621061  560.24869226  197.95285043  444.42683619 -588.16336393\n",
      " -435.50091125  382.42482176  -83.82477742  468.46146847  281.87693894\n",
      "  224.90294148 -184.76206327 -400.80108487 -413.28256355 -370.58365265\n",
      "  -93.09551001  427.21817419  -11.70406256  379.08966392  -46.90982945\n",
      "  -51.19674562  -59.07132471 -105.43210198  481.73142565 -593.13525586\n",
      " -243.26740305 -540.99820527  231.61590947  180.19254365  579.55710499\n",
      "   63.30417316 -119.8660534  -361.73501737  150.07434409  280.10658995\n",
      " -149.03437356 -588.2958909   -96.25108482  304.23906483  352.64867613\n",
      "  503.88769255  413.55029048 -158.92555467  144.81939262  277.47577227\n",
      " -367.25580449  485.63405165   83.04130742  158.30806836 -318.77885838\n",
      "   58.69957612  518.0278418  -197.55224385  186.76509391 -129.59285159\n",
      "  152.94956435  238.85973489 -123.38453617 -103.71183876  186.56432508\n",
      "  404.85693861 -154.03031878  -89.74002203  113.63828569   78.81422606\n",
      "  259.93751627   13.39466866  331.5969755   -12.79330736 -376.9390457\n",
      "  240.85698928  579.22569198  368.14069278  244.09898147  -18.03500077\n",
      " -462.2948141   197.65077114 -161.26532508 -431.92351794   80.10208612\n",
      "  387.68229002  208.82336747  599.2097255   554.10058917 -529.26582317\n",
      " -167.61803824   58.35117229 -285.71044373  116.727183   -540.89805481\n",
      "   85.24031383  240.96522039  554.72250549  300.55583532  288.00577644\n",
      "  -81.73616087  161.04514127  363.45696094 -499.28455801  534.57246277\n",
      "  499.17536453  122.49124279 -295.57312491  448.14288368   16.31758423\n",
      "  279.33943573  -93.48055505  553.64185914 -513.51227666   64.07898624\n",
      " -249.61025538  429.78150369 -197.27863207  216.11813295 -535.79233917\n",
      " -172.03912626   -1.78554368  -78.53315152   74.8914725   140.02291408\n",
      " -464.01735735  477.63262245  305.36348806  349.30488142  377.96285695\n",
      "  203.87571351 -358.83220436 -272.15559483  151.40915882   44.24967917\n",
      " -528.76097023 -493.43847802 -274.47736868 -109.1660769   -31.14242684\n",
      "  490.6898192   115.53124662 -205.18733476  -26.33167917  116.50582204\n",
      " -406.25672858  395.49241619  547.15139512  114.59809801 -565.3057503\n",
      "  374.46062538  132.25007484  241.66897605 -489.47350975  -89.84037242\n",
      " -149.23411517 -400.73636367  399.73936171  406.36790253  -57.85379477\n",
      "  548.19043839 -423.50204393  443.75505522  323.37981443  -67.15772206\n",
      "  144.85788551  542.03352137  168.16198974 -303.12357598 -176.837297\n",
      " -374.44346192  -11.04522316 -108.78406245  -43.67341405  133.39875038\n",
      " -514.58171152 -222.91314676  130.0266603  -389.75614008  145.09439729\n",
      " -305.01672813  104.54728635    7.11850401  -42.2263905    49.63677103\n",
      "  530.83794942 -189.91433332 -117.98674095 -230.94241962 -106.10378903\n",
      " -256.91638326 -127.10552555    3.75541474  266.27622186 -232.69300969\n",
      " -465.43120273  -67.93642684  -39.68973304 -582.44248967  196.91789548\n",
      "  268.7574607  -261.94811666 -285.74056577  250.20701651  340.66327884\n",
      "  583.58849391  -31.97656178  483.3131213   -58.61415815  365.54583526\n",
      "  394.61398142 -400.4570932  -127.34034276   24.98400598  261.59064479\n",
      "   82.91301642  -47.03594398  -65.6236907  -494.82152238  -67.84385226\n",
      " -160.53785026 -236.94106864  422.31624974  311.30871486  539.67189825\n",
      "   69.51483278 -582.92716349  115.32882455  379.47485365  572.49512277\n",
      " -333.73470008  244.51074026   26.41747344  519.30245098  255.86471593\n",
      " -326.49135477  -60.47465514 -393.5435111   562.50264154 -173.03562739\n",
      " -541.09112869  306.56347642  473.759015   -256.64438834 -298.43784544\n",
      "  519.42119879 -442.7566829   529.02303089  242.1533957   417.41083419\n",
      " -349.04515982  -53.73518149 -502.83975598  421.48382169   74.5154729\n",
      " -216.89861854 -150.41652205  441.53831381 -153.39361417 -511.4479897\n",
      " -360.14505031 -540.76345343   80.22347513 -453.74550326   26.54040725\n",
      " -459.6448657   323.92271758 -149.79313081  388.04511884 -544.0894264\n",
      "  117.57594304  539.00464079 -253.37141493  466.37341551 -478.27564097\n",
      " -521.86452791 -318.87745495  519.63907137 -524.32852802 -283.01734095\n",
      "  599.34334444 -345.43664115   -1.97881298 -251.32752062  207.50297516\n",
      "  549.63153568  319.73664961  199.24688147 -442.9558407  -471.17816409]\n",
      "Best Fitness -676.9432248903569\n"
     ]
    }
   ],
   "source": [
    "compute(func)"
   ]
  },
  {
   "cell_type": "code",
   "execution_count": 8,
   "metadata": {},
   "outputs": [
    {
     "data": {
      "text/plain": [
       "124.91929650306702"
      ]
     },
     "execution_count": 8,
     "metadata": {},
     "output_type": "execute_result"
    }
   ],
   "source": [
    "comp_time = end_time-start_time\n",
    "comp_time"
   ]
  },
  {
   "cell_type": "code",
   "execution_count": 9,
   "metadata": {},
   "outputs": [
    {
     "data": {
      "image/png": "[encoded data removed]",
      "text/plain": [
       "<Figure size 432x288 with 1 Axes>"
      ]
     },
     "metadata": {
      "needs_background": "light"
     },
     "output_type": "display_data"
    }
   ],
   "source": [
    "plt.plot(curve)\n",
    "plt.title(\"Shifted Griewank Function 500\")\n",
    "plt.xlabel(\"Iteration\")\n",
    "plt.ylabel(\"Cost\")\n",
    "plt.show()"
   ]
  },
  {
   "cell_type": "code",
   "execution_count": null,
   "metadata": {},
   "outputs": [],
   "source": []
  }
 ],
 "metadata": {
  "kernelspec": {
   "display_name": "Python 3",
   "language": "python",
   "name": "python3"
  },
  "language_info": {
   "codemirror_mode": {
    "name": "ipython",
    "version": 3
   },
   "file_extension": ".py",
   "mimetype": "text/x-python",
   "name": "python",
   "nbconvert_exporter": "python",
   "pygments_lexer": "ipython3",
   "version": "3.6.12"
  }
 },
 "nbformat": 4,
 "nbformat_minor": 4
}
