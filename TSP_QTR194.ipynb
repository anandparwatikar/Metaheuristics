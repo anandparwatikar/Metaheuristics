{
 "cells": [
  {
   "cell_type": "code",
   "execution_count": 1,
   "metadata": {},
   "outputs": [],
   "source": [
    "import six\n",
    "import sys\n",
    "sys.modules['sklearn.externals.six'] = six\n",
    "import mlrose\n",
    "import time\n",
    "import pandas as pd\n",
    "import matplotlib.pyplot as plt"
   ]
  },
  {
   "cell_type": "code",
   "execution_count": 3,
   "metadata": {},
   "outputs": [
    {
     "data": {
      "text/html": [
       "<div>\n",
       "<style scoped>\n",
       "    .dataframe tbody tr th:only-of-type {\n",
       "        vertical-align: middle;\n",
       "    }\n",
       "\n",
       "    .dataframe tbody tr th {\n",
       "        vertical-align: top;\n",
       "    }\n",
       "\n",
       "    .dataframe thead th {\n",
       "        text-align: right;\n",
       "    }\n",
       "</style>\n",
       "<table border=\"1\" class=\"dataframe\">\n",
       "  <thead>\n",
       "    <tr style=\"text-align: right;\">\n",
       "      <th></th>\n",
       "      <th>column1</th>\n",
       "      <th>column2</th>\n",
       "    </tr>\n",
       "  </thead>\n",
       "  <tbody>\n",
       "    <tr>\n",
       "      <th>0</th>\n",
       "      <td>24748.3333</td>\n",
       "      <td>50840.0000</td>\n",
       "    </tr>\n",
       "    <tr>\n",
       "      <th>1</th>\n",
       "      <td>24758.8889</td>\n",
       "      <td>51211.9444</td>\n",
       "    </tr>\n",
       "    <tr>\n",
       "      <th>2</th>\n",
       "      <td>24827.2222</td>\n",
       "      <td>51394.7222</td>\n",
       "    </tr>\n",
       "    <tr>\n",
       "      <th>3</th>\n",
       "      <td>24904.4444</td>\n",
       "      <td>51175.0000</td>\n",
       "    </tr>\n",
       "    <tr>\n",
       "      <th>4</th>\n",
       "      <td>24996.1111</td>\n",
       "      <td>51548.8889</td>\n",
       "    </tr>\n",
       "    <tr>\n",
       "      <th>...</th>\n",
       "      <td>...</td>\n",
       "      <td>...</td>\n",
       "    </tr>\n",
       "    <tr>\n",
       "      <th>189</th>\n",
       "      <td>26123.6111</td>\n",
       "      <td>51169.1667</td>\n",
       "    </tr>\n",
       "    <tr>\n",
       "      <th>190</th>\n",
       "      <td>26123.6111</td>\n",
       "      <td>51222.7778</td>\n",
       "    </tr>\n",
       "    <tr>\n",
       "      <th>191</th>\n",
       "      <td>26133.3333</td>\n",
       "      <td>51216.6667</td>\n",
       "    </tr>\n",
       "    <tr>\n",
       "      <th>192</th>\n",
       "      <td>26133.3333</td>\n",
       "      <td>51300.0000</td>\n",
       "    </tr>\n",
       "    <tr>\n",
       "      <th>193</th>\n",
       "      <td>26150.2778</td>\n",
       "      <td>51108.0556</td>\n",
       "    </tr>\n",
       "  </tbody>\n",
       "</table>\n",
       "<p>194 rows × 2 columns</p>\n",
       "</div>"
      ],
      "text/plain": [
       "        column1     column2\n",
       "0    24748.3333  50840.0000\n",
       "1    24758.8889  51211.9444\n",
       "2    24827.2222  51394.7222\n",
       "3    24904.4444  51175.0000\n",
       "4    24996.1111  51548.8889\n",
       "..          ...         ...\n",
       "189  26123.6111  51169.1667\n",
       "190  26123.6111  51222.7778\n",
       "191  26133.3333  51216.6667\n",
       "192  26133.3333  51300.0000\n",
       "193  26150.2778  51108.0556\n",
       "\n",
       "[194 rows x 2 columns]"
      ]
     },
     "execution_count": 3,
     "metadata": {},
     "output_type": "execute_result"
    }
   ],
   "source": [
    "data = pd.read_csv('TSP_QTR194.csv')\n",
    "data"
   ]
  },
  {
   "cell_type": "code",
   "execution_count": 4,
   "metadata": {},
   "outputs": [
    {
     "data": {
      "text/plain": [
       "[[24748.3333, 50840.0],\n",
       " [24758.8889, 51211.9444],\n",
       " [24827.2222, 51394.7222],\n",
       " [24904.4444, 51175.0],\n",
       " [24996.1111, 51548.8889],\n",
       " [25010.0, 51039.4444],\n",
       " [25030.8333, 51275.2778],\n",
       " [25067.7778, 51077.5],\n",
       " [25100.0, 51516.6667],\n",
       " [25103.3333, 51521.6667],\n",
       " [25121.9444, 51218.3333],\n",
       " [25150.8333, 51537.7778],\n",
       " [25158.3333, 51163.6111],\n",
       " [25162.2222, 51220.8333],\n",
       " [25167.7778, 51606.9444],\n",
       " [25168.8889, 51086.3889],\n",
       " [25173.8889, 51269.4444],\n",
       " [25210.8333, 51394.1667],\n",
       " [25211.3889, 51619.1667],\n",
       " [25214.1667, 50807.2222],\n",
       " [25214.4444, 51378.8889],\n",
       " [25223.3333, 51451.6667],\n",
       " [25224.1667, 51174.4444],\n",
       " [25233.3333, 51333.3333],\n",
       " [25234.1667, 51203.0556],\n",
       " [25235.5556, 51330.0],\n",
       " [25235.5556, 51495.5556],\n",
       " [25242.7778, 51428.8889],\n",
       " [25243.0556, 51452.5],\n",
       " [25252.5, 51559.1667],\n",
       " [25253.8889, 51535.2778],\n",
       " [25253.8889, 51549.7222],\n",
       " [25256.9444, 51398.8889],\n",
       " [25263.6111, 51516.3889],\n",
       " [25265.8333, 51545.2778],\n",
       " [25266.6667, 50969.1667],\n",
       " [25266.6667, 51483.3333],\n",
       " [25270.5556, 51532.7778],\n",
       " [25270.8333, 51505.8333],\n",
       " [25270.8333, 51523.0556],\n",
       " [25275.8333, 51533.6111],\n",
       " [25277.2222, 51547.7778],\n",
       " [25278.3333, 51525.5556],\n",
       " [25278.3333, 51541.3889],\n",
       " [25279.1667, 51445.5556],\n",
       " [25281.1111, 51535.0],\n",
       " [25281.3889, 51512.5],\n",
       " [25283.3333, 51533.3333],\n",
       " [25283.6111, 51546.6667],\n",
       " [25284.7222, 51555.2778],\n",
       " [25286.1111, 51504.1667],\n",
       " [25286.1111, 51534.1667],\n",
       " [25286.6667, 51533.3333],\n",
       " [25287.5, 51537.7778],\n",
       " [25288.0556, 51546.6667],\n",
       " [25290.8333, 51528.3333],\n",
       " [25291.9444, 51424.4444],\n",
       " [25292.5, 51520.8333],\n",
       " [25298.6111, 51001.6667],\n",
       " [25300.8333, 51394.4444],\n",
       " [25306.9444, 51507.7778],\n",
       " [25311.9444, 51003.0556],\n",
       " [25313.8889, 50883.3333],\n",
       " [25315.2778, 51438.6111],\n",
       " [25316.6667, 50766.6667],\n",
       " [25320.5556, 51495.5556],\n",
       " [25322.5, 51507.7778],\n",
       " [25325.2778, 51470.0],\n",
       " [25326.6667, 51350.2778],\n",
       " [25337.5, 51425.0],\n",
       " [25339.1667, 51173.3333],\n",
       " [25340.5556, 51293.6111],\n",
       " [25341.9444, 51507.5],\n",
       " [25358.8889, 51333.6111],\n",
       " [25363.6111, 51281.1111],\n",
       " [25368.6111, 51226.3889],\n",
       " [25374.4444, 51436.6667],\n",
       " [25377.7778, 51294.7222],\n",
       " [25396.9444, 51422.5],\n",
       " [25400.0, 51183.3333],\n",
       " [25400.0, 51425.0],\n",
       " [25404.7222, 51073.0556],\n",
       " [25416.9444, 51403.8889],\n",
       " [25416.9444, 51457.7778],\n",
       " [25419.4444, 50793.6111],\n",
       " [25429.7222, 50785.8333],\n",
       " [25433.3333, 51220.0],\n",
       " [25440.8333, 51378.0556],\n",
       " [25444.4444, 50958.3333],\n",
       " [25451.3889, 50925.0],\n",
       " [25459.1667, 51316.6667],\n",
       " [25469.7222, 51397.5],\n",
       " [25478.0556, 51362.5],\n",
       " [25480.5556, 50938.8889],\n",
       " [25483.3333, 51383.3333],\n",
       " [25490.5556, 51373.6111],\n",
       " [25492.2222, 51400.2778],\n",
       " [25495.0, 50846.6667],\n",
       " [25495.0, 50965.2778],\n",
       " [25497.5, 51485.2778],\n",
       " [25500.8333, 50980.5556],\n",
       " [25510.5556, 51242.2222],\n",
       " [25531.9444, 51304.4444],\n",
       " [25533.3333, 50977.2222],\n",
       " [25538.8889, 51408.3333],\n",
       " [25545.8333, 51387.5],\n",
       " [25549.7222, 51431.9444],\n",
       " [25550.0, 51433.3333],\n",
       " [25560.2778, 51158.6111],\n",
       " [25566.9444, 51484.7222],\n",
       " [25567.5, 50958.8889],\n",
       " [25574.7222, 51486.3889],\n",
       " [25585.5556, 51151.3889],\n",
       " [25609.4444, 51092.2222],\n",
       " [25610.2778, 51475.2778],\n",
       " [25622.5, 51454.4444],\n",
       " [25645.8333, 51450.0],\n",
       " [25650.0, 51372.2222],\n",
       " [25666.9444, 51174.4444],\n",
       " [25683.8889, 51505.8333],\n",
       " [25686.3889, 51468.8889],\n",
       " [25696.1111, 51260.8333],\n",
       " [25700.8333, 51584.7222],\n",
       " [25708.3333, 51591.6667],\n",
       " [25716.6667, 51050.0],\n",
       " [25717.5, 51057.7778],\n",
       " [25723.0556, 51004.1667],\n",
       " [25734.7222, 51547.5],\n",
       " [25751.1111, 51449.1667],\n",
       " [25751.9444, 50920.8333],\n",
       " [25758.3333, 51395.8333],\n",
       " [25765.2778, 51019.7222],\n",
       " [25772.2222, 51483.3333],\n",
       " [25775.8333, 51023.0556],\n",
       " [25779.1667, 51449.7222],\n",
       " [25793.3333, 51409.4444],\n",
       " [25808.3333, 51060.5556],\n",
       " [25816.6667, 51133.3333],\n",
       " [25823.6111, 51152.5],\n",
       " [25826.6667, 51043.8889],\n",
       " [25829.7222, 51245.2778],\n",
       " [25833.3333, 51072.2222],\n",
       " [25839.1667, 51465.2778],\n",
       " [25847.7778, 51205.8333],\n",
       " [25850.0, 51033.3333],\n",
       " [25856.6667, 51083.3333],\n",
       " [25857.5, 51298.8889],\n",
       " [25857.5, 51441.3889],\n",
       " [25866.6667, 51066.6667],\n",
       " [25867.7778, 51205.5556],\n",
       " [25871.9444, 51354.7222],\n",
       " [25872.5, 51258.3333],\n",
       " [25880.8333, 51221.3889],\n",
       " [25883.0556, 51185.2778],\n",
       " [25888.0556, 51386.3889],\n",
       " [25900.0, 51000.0],\n",
       " [25904.1667, 51201.6667],\n",
       " [25928.3333, 51337.5],\n",
       " [25937.5, 51313.3333],\n",
       " [25944.7222, 51456.3889],\n",
       " [25950.0, 51066.6667],\n",
       " [25951.6667, 51349.7222],\n",
       " [25957.7778, 51075.2778],\n",
       " [25958.3333, 51099.4444],\n",
       " [25966.6667, 51283.3333],\n",
       " [25983.3333, 51400.0],\n",
       " [25983.6111, 51328.0556],\n",
       " [26000.2778, 51294.4444],\n",
       " [26008.6111, 51083.6111],\n",
       " [26016.6667, 51333.3333],\n",
       " [26021.6667, 51366.9444],\n",
       " [26033.3333, 51116.6667],\n",
       " [26033.3333, 51166.6667],\n",
       " [26033.6111, 51163.8889],\n",
       " [26033.6111, 51200.2778],\n",
       " [26048.8889, 51056.9444],\n",
       " [26050.0, 51250.0],\n",
       " [26050.2778, 51297.5],\n",
       " [26050.5556, 51135.8333],\n",
       " [26055.0, 51316.1111],\n",
       " [26067.2222, 51258.6111],\n",
       " [26074.7222, 51083.6111],\n",
       " [26076.6667, 51166.9444],\n",
       " [26077.2222, 51222.2222],\n",
       " [26078.0556, 51361.6667],\n",
       " [26083.6111, 51147.2222],\n",
       " [26099.7222, 51161.1111],\n",
       " [26108.0556, 51244.7222],\n",
       " [26116.6667, 51216.6667],\n",
       " [26123.6111, 51169.1667],\n",
       " [26123.6111, 51222.7778],\n",
       " [26133.3333, 51216.6667],\n",
       " [26133.3333, 51300.0],\n",
       " [26150.2778, 51108.0556]]"
      ]
     },
     "execution_count": 4,
     "metadata": {},
     "output_type": "execute_result"
    }
   ],
   "source": [
    "coord_list=data[['column1','column2']].values.tolist()\n",
    "coord_list"
   ]
  },
  {
   "cell_type": "code",
   "execution_count": 6,
   "metadata": {},
   "outputs": [],
   "source": [
    "fitness_coords = mlrose.TravellingSales(coords=coord_list)"
   ]
  },
  {
   "cell_type": "code",
   "execution_count": 7,
   "metadata": {},
   "outputs": [],
   "source": [
    "problem_fit = mlrose.TSPOpt(length = 194, fitness_fn = fitness_coords, maximize=False)"
   ]
  },
  {
   "cell_type": "code",
   "execution_count": 8,
   "metadata": {},
   "outputs": [],
   "source": [
    "t1 = time.time()"
   ]
  },
  {
   "cell_type": "code",
   "execution_count": 9,
   "metadata": {},
   "outputs": [],
   "source": [
    "best_state, best_fitness, fitness_curve = mlrose.genetic_alg(problem=problem_fit,\n",
    "                                                             pop_size=100,\n",
    "                                                             mutation_prob=0.1,\n",
    "                                                             max_attempts=10,\n",
    "                                                             max_iters=100,\n",
    "                                                             curve=True)"
   ]
  },
  {
   "cell_type": "code",
   "execution_count": 10,
   "metadata": {},
   "outputs": [],
   "source": [
    "t2 = time.time()\n",
    "comp_time = t2 - t1"
   ]
  },
  {
   "cell_type": "code",
   "execution_count": 11,
   "metadata": {},
   "outputs": [
    {
     "data": {
      "text/plain": [
       "3.9745912551879883"
      ]
     },
     "execution_count": 11,
     "metadata": {},
     "output_type": "execute_result"
    }
   ],
   "source": [
    "comp_time"
   ]
  },
  {
   "cell_type": "code",
   "execution_count": 12,
   "metadata": {},
   "outputs": [],
   "source": [
    "soln = pd.DataFrame(best_state, columns=[''])\n",
    "soln.to_csv(\"QTR194_sol.csv\", sep=\",\")"
   ]
  },
  {
   "cell_type": "code",
   "execution_count": 13,
   "metadata": {},
   "outputs": [
    {
     "name": "stdout",
     "output_type": "stream",
     "text": [
      "[113  62  24  44  84  97  21   0 114 145 159 128 141  35  74  56 120 166\n",
      "  70 109  32   1  23  16 162   9 176  90  65 147 174 185  61 100  98 105\n",
      "  25  53  94  34   5 137 115  78   8  67  11 140 102  13 150 191 165 110\n",
      "  27  68 130 132 138 158 136 142 135 119  41  91 192 181  26 182 168 186\n",
      "  38 117 123  75 180  31  47 144 187 175  46  81  87 170   4 164  17   3\n",
      "  36 143 101  63  72  50  95  73 154 190 107  42 118  29 133 148 173  71\n",
      "  51 139 156 161 151  40 178 152  20  14  15  18  88 146 157  19  22  86\n",
      " 111  96 163 131 149 106  77 125  76  58  92 155 177 193  82 126  28   6\n",
      "   2  55  57  30  93  49 153 116  39 112 103  99 169 188 129 124  52 179\n",
      " 184 108   7  43  37  59  89  79 160 134  54  83  66  33  64 171  69  80\n",
      "  45  85 172 104 189 122 183 167 127 121  60  10  12  48]\n",
      "81908.40129105259\n",
      "[-82774.95481104 -82774.95481104 -81908.40129105 -81908.40129105\n",
      " -81908.40129105 -81908.40129105 -81908.40129105 -81908.40129105\n",
      " -81908.40129105 -81908.40129105 -81908.40129105 -81908.40129105\n",
      " -81908.40129105]\n"
     ]
    }
   ],
   "source": [
    "print(best_state)\n",
    "print(best_fitness)\n",
    "print(fitness_curve)"
   ]
  },
  {
   "cell_type": "code",
   "execution_count": 15,
   "metadata": {
    "scrolled": true
   },
   "outputs": [
    {
     "data": {
      "image/png": "[encoded data removed]",
      "text/plain": [
       "<Figure size 432x288 with 1 Axes>"
      ]
     },
     "metadata": {
      "needs_background": "light"
     },
     "output_type": "display_data"
    }
   ],
   "source": [
    "plt.plot(-(fitness_curve))\n",
    "plt.title(\"Convergence curve for TSP Qatar\")\n",
    "plt.xlabel(\"Iterations\")\n",
    "plt.ylabel(\"Fitness\")\n",
    "plt.show()"
   ]
  },
  {
   "cell_type": "code",
   "execution_count": null,
   "metadata": {},
   "outputs": [],
   "source": []
  }
 ],
 "metadata": {
  "kernelspec": {
   "display_name": "Python 3",
   "language": "python",
   "name": "python3"
  },
  "language_info": {
   "codemirror_mode": {
    "name": "ipython",
    "version": 3
   },
   "file_extension": ".py",
   "mimetype": "text/x-python",
   "name": "python",
   "nbconvert_exporter": "python",
   "pygments_lexer": "ipython3",
   "version": "3.6.12"
  }
 },
 "nbformat": 4,
 "nbformat_minor": 4
}
