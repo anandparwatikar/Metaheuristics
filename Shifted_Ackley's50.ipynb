{
 "cells": [
  {
   "cell_type": "code",
   "execution_count": 1,
   "metadata": {},
   "outputs": [],
   "source": [
    "import numpy as np\n",
    "import pandas as pd\n",
    "import os\n",
    "from scipy.optimize import minimize\n",
    "import matplotlib.pyplot as plt\n",
    "import time\n",
    "import pygmo as pg\n",
    "import math"
   ]
  },
  {
   "cell_type": "code",
   "execution_count": 2,
   "metadata": {},
   "outputs": [],
   "source": [
    "dataset = pd.read_csv(\"Ackley_dataset_data.csv\")\n",
    "Ackley_dataset = dataset[\"val\"].tolist()"
   ]
  },
  {
   "cell_type": "code",
   "execution_count": 3,
   "metadata": {},
   "outputs": [],
   "source": [
    "D = 50\n",
    "f_bias = -140\n",
    "lower_bound = -32\n",
    "upper_bound = 32"
   ]
  },
  {
   "cell_type": "code",
   "execution_count": 4,
   "metadata": {},
   "outputs": [],
   "source": [
    "def func(x):\n",
    "    Sum1 = 0\n",
    "    Sum2 = 0\n",
    "    for i in range(D - 1):\n",
    "        z = x[i] - Ackley_dataset[i]\n",
    "        Sum1 += z ** 2\n",
    "        Sum2 += math.cos(2 * math.pi * z)\n",
    "    func = -20 * math.exp(-0.2 * math.sqrt(Sum1 / D)) - math.exp(Sum2 / D) + 20 + math.e + f_bias\n",
    "    return func"
   ]
  },
  {
   "cell_type": "code",
   "execution_count": 5,
   "metadata": {},
   "outputs": [],
   "source": [
    "class ACK:\n",
    "    def __init__(self,xmin,xmax,D,f_bias):\n",
    "        self.lower_bound = xmin\n",
    "        self.upper_bound = xmax\n",
    "        self.dimension = D\n",
    "        self.fitness_per_eval = []\n",
    "        self.glob_opt = f_bias\n",
    "\n",
    "    def fitness(self, x):\n",
    "        #result = abs(func(x)-f_bias)\n",
    "        result = func(x)\n",
    "        return [result]\n",
    "\n",
    "    def get_bounds(self):\n",
    "        x_min = self.lower_bound * np.ones(self.dimension)\n",
    "        x_max = self.upper_bound * np.ones(self.dimension)\n",
    "        return x_min, x_max"
   ]
  },
  {
   "cell_type": "code",
   "execution_count": 6,
   "metadata": {},
   "outputs": [],
   "source": [
    "def compute(func):\n",
    "    global curve\n",
    "    global start_time\n",
    "    global end_time\n",
    "    start_time = time.time()\n",
    "    algo = pg.algorithm(pg.simulated_annealing(Ts=20., Tf=1e-4))\n",
    "    algo.set_verbosity(1)\n",
    "    popsize = 1\n",
    "    prob = pg.problem(ACK(lower_bound,upper_bound,D,f_bias))\n",
    "    pop = pg.population(prob, popsize)\n",
    "    extract_algo = algo.extract(pg.simulated_annealing)\n",
    "    pop = algo.evolve(pop)\n",
    "    end_time = time.time()\n",
    "    \n",
    "    log = extract_algo.get_log()\n",
    "    curve = [x[2] for x in log]\n",
    "    #niter = log[-1][0]\n",
    "    niter = pop.problem.get_fevals()\n",
    "    \n",
    "    curve = [x[2] for x in log]\n",
    "    print(\"Best position: \", pop.champion_x)\n",
    "    print(\"Best Fitness\",pop.champion_f[0])"
   ]
  },
  {
   "cell_type": "code",
   "execution_count": 7,
   "metadata": {},
   "outputs": [
    {
     "name": "stdout",
     "output_type": "stream",
     "text": [
      "Best position:  [ 27.0118549  -16.15260843   6.38264341  -0.91091015  23.49801786\n",
      "  15.75377059  -2.75376122 -28.92779336  19.3396015   -3.32612397\n",
      "   6.96448807  17.66054185  25.31290711  14.15187749 -19.5168767\n",
      "  -5.46623219  26.1243192   24.9948275   -5.3117492   23.58930828\n",
      " -26.49439614  -8.45492928  18.78618352 -29.56267439 -21.53311546\n",
      " -17.81949525 -18.04545889   6.30638866 -13.3971262  -18.05130589\n",
      " -29.03851507  14.80836773  -3.33131841  25.95941675  -1.76005945\n",
      "  -4.86775327  20.84581472   1.52415942 -17.83932902  10.48043777\n",
      "  20.19983324 -28.79271856  10.74879832  -7.26034594  19.83155782\n",
      "   0.19087278  12.56902684  -4.27612718 -11.73563944  -2.57067745]\n",
      "Best Fitness -139.1186204788561\n"
     ]
    }
   ],
   "source": [
    "compute(func)"
   ]
  },
  {
   "cell_type": "code",
   "execution_count": 8,
   "metadata": {},
   "outputs": [
    {
     "data": {
      "text/plain": [
       "5.586615562438965"
      ]
     },
     "execution_count": 8,
     "metadata": {},
     "output_type": "execute_result"
    }
   ],
   "source": [
    "comp_time = end_time-start_time\n",
    "comp_time"
   ]
  },
  {
   "cell_type": "code",
   "execution_count": 9,
   "metadata": {},
   "outputs": [
    {
     "data": {
      "image/png": "[encoded data removed]",
      "text/plain": [
       "<Figure size 432x288 with 1 Axes>"
      ]
     },
     "metadata": {
      "needs_background": "light"
     },
     "output_type": "display_data"
    }
   ],
   "source": [
    "plt.plot(curve)\n",
    "plt.title(\"Shifted Ackley's Function 50\")\n",
    "plt.xlabel(\"Iteration\")\n",
    "plt.ylabel(\"Cost\")\n",
    "plt.show()"
   ]
  },
  {
   "cell_type": "code",
   "execution_count": null,
   "metadata": {},
   "outputs": [],
   "source": []
  }
 ],
 "metadata": {
  "kernelspec": {
   "display_name": "Python 3",
   "language": "python",
   "name": "python3"
  },
  "language_info": {
   "codemirror_mode": {
    "name": "ipython",
    "version": 3
   },
   "file_extension": ".py",
   "mimetype": "text/x-python",
   "name": "python",
   "nbconvert_exporter": "python",
   "pygments_lexer": "ipython3",
   "version": "3.6.12"
  }
 },
 "nbformat": 4,
 "nbformat_minor": 4
}
