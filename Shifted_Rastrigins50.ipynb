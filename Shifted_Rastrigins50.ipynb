{
 "cells": [
  {
   "cell_type": "code",
   "execution_count": 1,
   "metadata": {},
   "outputs": [],
   "source": [
    "import numpy as np\n",
    "import pandas as pd\n",
    "import os\n",
    "from scipy.optimize import minimize\n",
    "import matplotlib.pyplot as plt\n",
    "import time\n",
    "import pygmo as pg\n",
    "import math"
   ]
  },
  {
   "cell_type": "code",
   "execution_count": 2,
   "metadata": {},
   "outputs": [],
   "source": [
    "dataset = pd.read_csv(\"Rastrigin_dataset_data.csv\")\n",
    "Rastrigin_dataset = dataset[\"val\"].tolist()"
   ]
  },
  {
   "cell_type": "code",
   "execution_count": 3,
   "metadata": {},
   "outputs": [],
   "source": [
    "D = 50\n",
    "f_bias = -330\n",
    "lower_bound = -5\n",
    "upper_bound = 5"
   ]
  },
  {
   "cell_type": "code",
   "execution_count": 4,
   "metadata": {},
   "outputs": [],
   "source": [
    "def func(x):\n",
    "    F = 0\n",
    "    for i in range(D - 1):\n",
    "         z = x[i] - Rastrigin_dataset[i]\n",
    "         F += z ** 2 - 10 * math.cos(2 * math.pi * z) + 10\n",
    "    func = F + f_bias\n",
    "    return func"
   ]
  },
  {
   "cell_type": "code",
   "execution_count": 5,
   "metadata": {},
   "outputs": [],
   "source": [
    "class RAS:\n",
    "    def __init__(self,xmin,xmax,D,f_bias):\n",
    "        self.lower_bound = lower_bound\n",
    "        self.upper_bound = upper_bound\n",
    "        self.dimension = D\n",
    "        self.fitness_per_eval = []\n",
    "        self.glob_opt = f_bias\n",
    "\n",
    "    def fitness(self, x):\n",
    "        #result = abs(func(x)-f_bias)\n",
    "        result = func(x)\n",
    "        return [result]\n",
    "\n",
    "    def get_bounds(self):\n",
    "        x_min = self.lower_bound * np.ones(self.dimension)\n",
    "        x_max = self.upper_bound * np.ones(self.dimension)\n",
    "        return x_min, x_max"
   ]
  },
  {
   "cell_type": "code",
   "execution_count": 16,
   "metadata": {},
   "outputs": [],
   "source": [
    "def compute(func):\n",
    "    global curve\n",
    "    global start_time\n",
    "    global end_time\n",
    "    gen=2000\n",
    "    start_time = time.time()\n",
    "    algo = pg.algorithm(pg.de(gen=gen,F=0.6,CR=0.95,variant=3,ftol=1e-5,xtol=1e-5))\n",
    "    algo.set_verbosity(100)\n",
    "    popsize = 100\n",
    "    prob = pg.problem(RAS(lower_bound,upper_bound,D,f_bias))\n",
    "    pop = pg.population(prob, popsize)\n",
    "    extract_algo = algo.extract(pg.de)\n",
    "    pop = algo.evolve(pop)\n",
    "    end_time = time.time()\n",
    "    \n",
    "    log = extract_algo.get_log()\n",
    "    niter = pop.problem.get_fevals()\n",
    "    \n",
    "    curve = [x[2] for x in log]\n",
    "    print(\"Best position: \", pop.champion_x)\n",
    "    print(\"Best Fitness\",pop.champion_f[0])"
   ]
  },
  {
   "cell_type": "code",
   "execution_count": 17,
   "metadata": {},
   "outputs": [
    {
     "name": "stdout",
     "output_type": "stream",
     "text": [
      "Best position:  [ 3.82242814  4.39811081 -3.00662908 -0.3455895   3.32690147  3.38597794\n",
      " -3.52423264  2.47478054  3.82824236  3.36137413  1.26154986  2.06060524\n",
      " -0.02023132  4.57670144  3.68850083  2.08501796  1.63036703 -3.7905409\n",
      " -3.50766747  1.01995233 -2.07422175  3.90586487 -2.68430596 -3.27915355\n",
      "  3.59524677  0.6881742  -3.42810582  0.39666312  0.71275142  3.1306927\n",
      " -2.3571537   2.76638802  3.53972085 -3.7249566   1.47861414 -3.66013847\n",
      " -3.10345521  2.44012077 -0.98516635 -0.2835397  -2.67697999  3.08700651\n",
      "  3.39973922  3.41143394 -3.72649566  3.83075248  1.03456619 -3.29713445\n",
      "  2.75573965  1.7968574 ]\n",
      "Best Fitness -223.39243768494396\n"
     ]
    }
   ],
   "source": [
    "compute(func)"
   ]
  },
  {
   "cell_type": "code",
   "execution_count": 18,
   "metadata": {},
   "outputs": [
    {
     "data": {
      "text/plain": [
       "19.9469997882843"
      ]
     },
     "execution_count": 18,
     "metadata": {},
     "output_type": "execute_result"
    }
   ],
   "source": [
    "comp_time = end_time-start_time\n",
    "comp_time"
   ]
  },
  {
   "cell_type": "code",
   "execution_count": 20,
   "metadata": {},
   "outputs": [
    {
     "data": {
      "image/png": "[encoded data removed]",
      "text/plain": [
       "<Figure size 432x288 with 1 Axes>"
      ]
     },
     "metadata": {
      "needs_background": "light"
     },
     "output_type": "display_data"
    }
   ],
   "source": [
    "plt.plot(curve)\n",
    "plt.title(\"Shifted Rastrigin Function 50\")\n",
    "plt.xlabel(\"Iteration\")\n",
    "plt.ylabel(\"Cost\")\n",
    "plt.show()"
   ]
  },
  {
   "cell_type": "code",
   "execution_count": null,
   "metadata": {},
   "outputs": [],
   "source": []
  }
 ],
 "metadata": {
  "kernelspec": {
   "display_name": "Python 3",
   "language": "python",
   "name": "python3"
  },
  "language_info": {
   "codemirror_mode": {
    "name": "ipython",
    "version": 3
   },
   "file_extension": ".py",
   "mimetype": "text/x-python",
   "name": "python",
   "nbconvert_exporter": "python",
   "pygments_lexer": "ipython3",
   "version": "3.6.12"
  }
 },
 "nbformat": 4,
 "nbformat_minor": 4
}
