{
 "cells": [
  {
   "cell_type": "code",
   "execution_count": 1,
   "metadata": {},
   "outputs": [],
   "source": [
    "import six\n",
    "import sys\n",
    "sys.modules['sklearn.externals.six'] = six\n",
    "import mlrose\n",
    "import time\n",
    "import pandas as pd\n",
    "import matplotlib.pyplot as plt"
   ]
  },
  {
   "cell_type": "code",
   "execution_count": 2,
   "metadata": {
    "collapsed": true
   },
   "outputs": [
    {
     "data": {
      "text/html": [
       "<div>\n",
       "<style scoped>\n",
       "    .dataframe tbody tr th:only-of-type {\n",
       "        vertical-align: middle;\n",
       "    }\n",
       "\n",
       "    .dataframe tbody tr th {\n",
       "        vertical-align: top;\n",
       "    }\n",
       "\n",
       "    .dataframe thead th {\n",
       "        text-align: right;\n",
       "    }\n",
       "</style>\n",
       "<table border=\"1\" class=\"dataframe\">\n",
       "  <thead>\n",
       "    <tr style=\"text-align: right;\">\n",
       "      <th></th>\n",
       "      <th>column1</th>\n",
       "      <th>column2</th>\n",
       "    </tr>\n",
       "  </thead>\n",
       "  <tbody>\n",
       "    <tr>\n",
       "      <th>0</th>\n",
       "      <td>11003.6111</td>\n",
       "      <td>42102.5000</td>\n",
       "    </tr>\n",
       "    <tr>\n",
       "      <th>1</th>\n",
       "      <td>11108.6111</td>\n",
       "      <td>42373.8889</td>\n",
       "    </tr>\n",
       "    <tr>\n",
       "      <th>2</th>\n",
       "      <td>11133.3333</td>\n",
       "      <td>42885.8333</td>\n",
       "    </tr>\n",
       "    <tr>\n",
       "      <th>3</th>\n",
       "      <td>11155.8333</td>\n",
       "      <td>42712.5000</td>\n",
       "    </tr>\n",
       "    <tr>\n",
       "      <th>4</th>\n",
       "      <td>11183.3333</td>\n",
       "      <td>42933.3333</td>\n",
       "    </tr>\n",
       "    <tr>\n",
       "      <th>5</th>\n",
       "      <td>11297.5000</td>\n",
       "      <td>42853.3333</td>\n",
       "    </tr>\n",
       "    <tr>\n",
       "      <th>6</th>\n",
       "      <td>11310.2778</td>\n",
       "      <td>42929.4444</td>\n",
       "    </tr>\n",
       "    <tr>\n",
       "      <th>7</th>\n",
       "      <td>11416.6667</td>\n",
       "      <td>42983.3333</td>\n",
       "    </tr>\n",
       "    <tr>\n",
       "      <th>8</th>\n",
       "      <td>11423.8889</td>\n",
       "      <td>43000.2778</td>\n",
       "    </tr>\n",
       "    <tr>\n",
       "      <th>9</th>\n",
       "      <td>11438.3333</td>\n",
       "      <td>42057.2222</td>\n",
       "    </tr>\n",
       "    <tr>\n",
       "      <th>10</th>\n",
       "      <td>11461.1111</td>\n",
       "      <td>43252.7778</td>\n",
       "    </tr>\n",
       "    <tr>\n",
       "      <th>11</th>\n",
       "      <td>11485.5556</td>\n",
       "      <td>43187.2222</td>\n",
       "    </tr>\n",
       "    <tr>\n",
       "      <th>12</th>\n",
       "      <td>11503.0556</td>\n",
       "      <td>42855.2778</td>\n",
       "    </tr>\n",
       "    <tr>\n",
       "      <th>13</th>\n",
       "      <td>11511.3889</td>\n",
       "      <td>42106.3889</td>\n",
       "    </tr>\n",
       "    <tr>\n",
       "      <th>14</th>\n",
       "      <td>11522.2222</td>\n",
       "      <td>42841.9444</td>\n",
       "    </tr>\n",
       "    <tr>\n",
       "      <th>15</th>\n",
       "      <td>11569.4444</td>\n",
       "      <td>43136.6667</td>\n",
       "    </tr>\n",
       "    <tr>\n",
       "      <th>16</th>\n",
       "      <td>11583.3333</td>\n",
       "      <td>43150.0000</td>\n",
       "    </tr>\n",
       "    <tr>\n",
       "      <th>17</th>\n",
       "      <td>11595.0000</td>\n",
       "      <td>43148.0556</td>\n",
       "    </tr>\n",
       "    <tr>\n",
       "      <th>18</th>\n",
       "      <td>11600.0000</td>\n",
       "      <td>43150.0000</td>\n",
       "    </tr>\n",
       "    <tr>\n",
       "      <th>19</th>\n",
       "      <td>11690.5556</td>\n",
       "      <td>42686.6667</td>\n",
       "    </tr>\n",
       "    <tr>\n",
       "      <th>20</th>\n",
       "      <td>11715.8333</td>\n",
       "      <td>41836.1111</td>\n",
       "    </tr>\n",
       "    <tr>\n",
       "      <th>21</th>\n",
       "      <td>11751.1111</td>\n",
       "      <td>42814.4444</td>\n",
       "    </tr>\n",
       "    <tr>\n",
       "      <th>22</th>\n",
       "      <td>11770.2778</td>\n",
       "      <td>42651.9444</td>\n",
       "    </tr>\n",
       "    <tr>\n",
       "      <th>23</th>\n",
       "      <td>11785.2778</td>\n",
       "      <td>42884.4444</td>\n",
       "    </tr>\n",
       "    <tr>\n",
       "      <th>24</th>\n",
       "      <td>11822.7778</td>\n",
       "      <td>42673.6111</td>\n",
       "    </tr>\n",
       "    <tr>\n",
       "      <th>25</th>\n",
       "      <td>11846.9444</td>\n",
       "      <td>42660.5556</td>\n",
       "    </tr>\n",
       "    <tr>\n",
       "      <th>26</th>\n",
       "      <td>11963.0556</td>\n",
       "      <td>43290.5556</td>\n",
       "    </tr>\n",
       "    <tr>\n",
       "      <th>27</th>\n",
       "      <td>11973.0556</td>\n",
       "      <td>43026.1111</td>\n",
       "    </tr>\n",
       "    <tr>\n",
       "      <th>28</th>\n",
       "      <td>12058.3333</td>\n",
       "      <td>42195.5556</td>\n",
       "    </tr>\n",
       "    <tr>\n",
       "      <th>29</th>\n",
       "      <td>12149.4444</td>\n",
       "      <td>42477.5000</td>\n",
       "    </tr>\n",
       "    <tr>\n",
       "      <th>30</th>\n",
       "      <td>12286.9444</td>\n",
       "      <td>43355.5556</td>\n",
       "    </tr>\n",
       "    <tr>\n",
       "      <th>31</th>\n",
       "      <td>12300.0000</td>\n",
       "      <td>42433.3333</td>\n",
       "    </tr>\n",
       "    <tr>\n",
       "      <th>32</th>\n",
       "      <td>12355.8333</td>\n",
       "      <td>43156.3889</td>\n",
       "    </tr>\n",
       "    <tr>\n",
       "      <th>33</th>\n",
       "      <td>12363.3333</td>\n",
       "      <td>43189.1667</td>\n",
       "    </tr>\n",
       "    <tr>\n",
       "      <th>34</th>\n",
       "      <td>12372.7778</td>\n",
       "      <td>42711.3889</td>\n",
       "    </tr>\n",
       "    <tr>\n",
       "      <th>35</th>\n",
       "      <td>12386.6667</td>\n",
       "      <td>43334.7222</td>\n",
       "    </tr>\n",
       "    <tr>\n",
       "      <th>36</th>\n",
       "      <td>12421.6667</td>\n",
       "      <td>42895.5556</td>\n",
       "    </tr>\n",
       "    <tr>\n",
       "      <th>37</th>\n",
       "      <td>12645.0000</td>\n",
       "      <td>42973.3333</td>\n",
       "    </tr>\n",
       "  </tbody>\n",
       "</table>\n",
       "</div>"
      ],
      "text/plain": [
       "       column1     column2\n",
       "0   11003.6111  42102.5000\n",
       "1   11108.6111  42373.8889\n",
       "2   11133.3333  42885.8333\n",
       "3   11155.8333  42712.5000\n",
       "4   11183.3333  42933.3333\n",
       "5   11297.5000  42853.3333\n",
       "6   11310.2778  42929.4444\n",
       "7   11416.6667  42983.3333\n",
       "8   11423.8889  43000.2778\n",
       "9   11438.3333  42057.2222\n",
       "10  11461.1111  43252.7778\n",
       "11  11485.5556  43187.2222\n",
       "12  11503.0556  42855.2778\n",
       "13  11511.3889  42106.3889\n",
       "14  11522.2222  42841.9444\n",
       "15  11569.4444  43136.6667\n",
       "16  11583.3333  43150.0000\n",
       "17  11595.0000  43148.0556\n",
       "18  11600.0000  43150.0000\n",
       "19  11690.5556  42686.6667\n",
       "20  11715.8333  41836.1111\n",
       "21  11751.1111  42814.4444\n",
       "22  11770.2778  42651.9444\n",
       "23  11785.2778  42884.4444\n",
       "24  11822.7778  42673.6111\n",
       "25  11846.9444  42660.5556\n",
       "26  11963.0556  43290.5556\n",
       "27  11973.0556  43026.1111\n",
       "28  12058.3333  42195.5556\n",
       "29  12149.4444  42477.5000\n",
       "30  12286.9444  43355.5556\n",
       "31  12300.0000  42433.3333\n",
       "32  12355.8333  43156.3889\n",
       "33  12363.3333  43189.1667\n",
       "34  12372.7778  42711.3889\n",
       "35  12386.6667  43334.7222\n",
       "36  12421.6667  42895.5556\n",
       "37  12645.0000  42973.3333"
      ]
     },
     "execution_count": 2,
     "metadata": {},
     "output_type": "execute_result"
    }
   ],
   "source": [
    "data = pd.read_csv('dj38csv.csv')\n",
    "data"
   ]
  },
  {
   "cell_type": "code",
   "execution_count": 23,
   "metadata": {
    "collapsed": true
   },
   "outputs": [
    {
     "data": {
      "text/plain": [
       "[[11003.6111, 42102.5],\n",
       " [11108.6111, 42373.8889],\n",
       " [11133.3333, 42885.8333],\n",
       " [11155.8333, 42712.5],\n",
       " [11183.3333, 42933.3333],\n",
       " [11297.5, 42853.3333],\n",
       " [11310.2778, 42929.4444],\n",
       " [11416.6667, 42983.3333],\n",
       " [11423.8889, 43000.2778],\n",
       " [11438.3333, 42057.2222],\n",
       " [11461.1111, 43252.7778],\n",
       " [11485.5556, 43187.2222],\n",
       " [11503.0556, 42855.2778],\n",
       " [11511.3889, 42106.3889],\n",
       " [11522.2222, 42841.9444],\n",
       " [11569.4444, 43136.6667],\n",
       " [11583.3333, 43150.0],\n",
       " [11595.0, 43148.0556],\n",
       " [11600.0, 43150.0],\n",
       " [11690.5556, 42686.6667],\n",
       " [11715.8333, 41836.1111],\n",
       " [11751.1111, 42814.4444],\n",
       " [11770.2778, 42651.9444],\n",
       " [11785.2778, 42884.4444],\n",
       " [11822.7778, 42673.6111],\n",
       " [11846.9444, 42660.5556],\n",
       " [11963.0556, 43290.5556],\n",
       " [11973.0556, 43026.1111],\n",
       " [12058.3333, 42195.5556],\n",
       " [12149.4444, 42477.5],\n",
       " [12286.9444, 43355.5556],\n",
       " [12300.0, 42433.3333],\n",
       " [12355.8333, 43156.3889],\n",
       " [12363.3333, 43189.1667],\n",
       " [12372.7778, 42711.3889],\n",
       " [12386.6667, 43334.7222],\n",
       " [12421.6667, 42895.5556],\n",
       " [12645.0, 42973.3333]]"
      ]
     },
     "execution_count": 23,
     "metadata": {},
     "output_type": "execute_result"
    }
   ],
   "source": [
    "coord_list=data[['column1','column2']].values.tolist()\n",
    "coord_list"
   ]
  },
  {
   "cell_type": "code",
   "execution_count": 7,
   "metadata": {},
   "outputs": [],
   "source": [
    "fitness_coords = mlrose.TravellingSales(coords=coord_list)"
   ]
  },
  {
   "cell_type": "code",
   "execution_count": 8,
   "metadata": {},
   "outputs": [],
   "source": [
    "problem_fit = mlrose.TSPOpt(length = 38, fitness_fn = fitness_coords, maximize=False)"
   ]
  },
  {
   "cell_type": "code",
   "execution_count": 10,
   "metadata": {},
   "outputs": [],
   "source": [
    "t1 = time.time()"
   ]
  },
  {
   "cell_type": "code",
   "execution_count": 11,
   "metadata": {},
   "outputs": [],
   "source": [
    "best_state, best_fitness, fitness_curve = mlrose.genetic_alg(problem=problem_fit,\n",
    "                                                             pop_size=5000,\n",
    "                                                             mutation_prob=0.1,\n",
    "                                                             max_attempts=20,\n",
    "                                                             max_iters=100,\n",
    "                                                             curve=True)"
   ]
  },
  {
   "cell_type": "code",
   "execution_count": 12,
   "metadata": {},
   "outputs": [],
   "source": [
    "t2 = time.time()\n",
    "comp_time = t2 - t1"
   ]
  },
  {
   "cell_type": "code",
   "execution_count": 13,
   "metadata": {},
   "outputs": [
    {
     "data": {
      "text/plain": [
       "109.04681324958801"
      ]
     },
     "execution_count": 13,
     "metadata": {},
     "output_type": "execute_result"
    }
   ],
   "source": [
    "comp_time"
   ]
  },
  {
   "cell_type": "code",
   "execution_count": 14,
   "metadata": {},
   "outputs": [],
   "source": [
    "soln = pd.DataFrame(best_state, columns=[''])\n",
    "soln.to_csv(\"Dj38_sol.csv\", sep=\",\")"
   ]
  },
  {
   "cell_type": "code",
   "execution_count": 16,
   "metadata": {},
   "outputs": [
    {
     "name": "stdout",
     "output_type": "stream",
     "text": [
      "[ 0  1  9 28 29 25 16 35 34 19 13 27 21  7  6  2 18 31 37 22 15 14 23  3\n",
      " 10 11  4 12 33 17  8  5 24 30 26 32 36 20]\n",
      "20146.250171173626\n",
      "[-20682.36293813 -20486.22271889 -20486.22271889 -20486.22271889\n",
      " -20486.22271889 -20486.22271889 -20486.22271889 -20486.22271889\n",
      " -20486.22271889 -20486.22271889 -20486.22271889 -20486.22271889\n",
      " -20146.25017117 -20146.25017117 -20146.25017117 -20146.25017117\n",
      " -20146.25017117 -20146.25017117 -20146.25017117 -20146.25017117\n",
      " -20146.25017117 -20146.25017117 -20146.25017117 -20146.25017117\n",
      " -20146.25017117 -20146.25017117 -20146.25017117 -20146.25017117\n",
      " -20146.25017117 -20146.25017117 -20146.25017117 -20146.25017117\n",
      " -20146.25017117]\n"
     ]
    }
   ],
   "source": [
    "print(best_state)\n",
    "print(best_fitness)\n",
    "print(fitness_curve)"
   ]
  },
  {
   "cell_type": "code",
   "execution_count": 25,
   "metadata": {
    "scrolled": true
   },
   "outputs": [
    {
     "data": {
      "image/png": "[encoded data removed]",
      "text/plain": [
       "<Figure size 432x288 with 1 Axes>"
      ]
     },
     "metadata": {
      "needs_background": "light"
     },
     "output_type": "display_data"
    }
   ],
   "source": [
    "plt.plot(-(fitness_curve))\n",
    "plt.title(\"Convergence curve for TSP Djibouti\")\n",
    "plt.xlabel(\"Iterations\")\n",
    "plt.ylabel(\"Fitness\")\n",
    "plt.show()"
   ]
  },
  {
   "cell_type": "code",
   "execution_count": null,
   "metadata": {},
   "outputs": [],
   "source": []
  }
 ],
 "metadata": {
  "kernelspec": {
   "display_name": "Python 3",
   "language": "python",
   "name": "python3"
  },
  "language_info": {
   "codemirror_mode": {
    "name": "ipython",
    "version": 3
   },
   "file_extension": ".py",
   "mimetype": "text/x-python",
   "name": "python",
   "nbconvert_exporter": "python",
   "pygments_lexer": "ipython3",
   "version": "3.6.12"
  }
 },
 "nbformat": 4,
 "nbformat_minor": 4
}
