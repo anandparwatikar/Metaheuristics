{
 "cells": [
  {
   "cell_type": "code",
   "execution_count": 2,
   "metadata": {},
   "outputs": [],
   "source": [
    "import numpy as np\n",
    "import pandas as pd\n",
    "import os\n",
    "from scipy.optimize import minimize\n",
    "import matplotlib.pyplot as plt\n",
    "import time\n",
    "import pygmo as pg\n",
    "import math"
   ]
  },
  {
   "cell_type": "code",
   "execution_count": 3,
   "metadata": {},
   "outputs": [],
   "source": [
    "dataset = pd.read_csv(\"Ackley_dataset_data.csv\")\n",
    "Ackley_dataset = dataset[\"val\"].tolist()"
   ]
  },
  {
   "cell_type": "code",
   "execution_count": 4,
   "metadata": {},
   "outputs": [],
   "source": [
    "D = 500\n",
    "f_bias = -140\n",
    "lower_bound = -32\n",
    "upper_bound = 32"
   ]
  },
  {
   "cell_type": "code",
   "execution_count": 5,
   "metadata": {},
   "outputs": [],
   "source": [
    "def func(x):\n",
    "    Sum1 = 0\n",
    "    Sum2 = 0\n",
    "    for i in range(D - 1):\n",
    "        z = x[i] - Ackley_dataset[i]\n",
    "        Sum1 += z ** 2\n",
    "        Sum2 += math.cos(2 * math.pi * z)\n",
    "    func = -20 * math.exp(-0.2 * math.sqrt(Sum1 / D)) - math.exp(Sum2 / D) + 20 + math.e + f_bias\n",
    "    return func"
   ]
  },
  {
   "cell_type": "code",
   "execution_count": 6,
   "metadata": {},
   "outputs": [],
   "source": [
    "class ACK:\n",
    "    def __init__(self,xmin,xmax,D,f_bias):\n",
    "        self.lower_bound = xmin\n",
    "        self.upper_bound = xmax\n",
    "        self.dimension = D\n",
    "        self.fitness_per_eval = []\n",
    "        self.glob_opt = f_bias\n",
    "\n",
    "    def fitness(self, x):\n",
    "        #result = abs(func(x)-f_bias)\n",
    "        result = func(x)\n",
    "        return [result]\n",
    "\n",
    "    def get_bounds(self):\n",
    "        x_min = self.lower_bound * np.ones(self.dimension)\n",
    "        x_max = self.upper_bound * np.ones(self.dimension)\n",
    "        return x_min, x_max"
   ]
  },
  {
   "cell_type": "code",
   "execution_count": 7,
   "metadata": {},
   "outputs": [],
   "source": [
    "def compute(func):\n",
    "    global curve\n",
    "    global start_time\n",
    "    global end_time\n",
    "    gen=20000\n",
    "    start_time = time.time()\n",
    "    algo = pg.algorithm(pg.de(gen=gen,F=0.6,CR=0.95,variant=3,ftol=0,xtol=1e-5))\n",
    "    algo.set_verbosity(100)\n",
    "    popsize = 100\n",
    "    prob = pg.problem(ACK(lower_bound,upper_bound,D,f_bias))\n",
    "    pop = pg.population(prob, popsize)\n",
    "    extract_algo = algo.extract(pg.de)\n",
    "    pop = algo.evolve(pop)\n",
    "    end_time = time.time()\n",
    "    \n",
    "    log = extract_algo.get_log()\n",
    "    niter = pop.problem.get_fevals()\n",
    "    \n",
    "    curve = [x[2] for x in log]\n",
    "    print(\"Best position: \", pop.champion_x)\n",
    "    print(\"Best Fitness\",pop.champion_f[0])"
   ]
  },
  {
   "cell_type": "code",
   "execution_count": 8,
   "metadata": {},
   "outputs": [
    {
     "name": "stdout",
     "output_type": "stream",
     "text": [
      "Best position:  [ 27.00775711 -16.13168919   6.41055501  -0.84105188  23.47793797\n",
      "  15.72580998  -2.61194009 -28.88978141  19.28442986  -3.31779814\n",
      "   6.92594089  17.51622225  25.30877824  14.29243475 -19.42403133\n",
      "  -5.65762722  26.12818195  25.01426639  -5.38378758  23.61897185\n",
      " -26.52652171  -8.82791207  18.78998984 -29.40832196 -21.66654708\n",
      " -17.83408689 -18.07669544   6.22754875 -13.6687245  -18.07114393\n",
      " -29.08356438  14.80714059  -3.29421406  25.90887471  -2.0403395\n",
      "  -4.88103194  20.77328507   1.50914978 -17.84115854  10.32824811\n",
      "  20.2871067  -28.82162917  10.87662968  -7.23113892  19.90776106\n",
      "   0.16877304  12.56828356  -4.26645808 -11.72295799 -18.62077515\n",
      " -18.39413062  10.93339342 -11.83413595   2.50043123 -20.94762143\n",
      "  11.87390891  -7.29761997  21.60069629  21.21930784   5.61377475\n",
      "  -0.20685302  23.98615051  19.29774964   8.69462305  19.07846045\n",
      "   9.61365339  -9.4817629  -12.61644625  -9.52838584   2.04474106\n",
      "  13.62679302 -11.44259041  20.3097627    4.08434766  -7.7751866\n",
      "  12.16439479   2.79426911  -3.30718772  11.67403443   7.27860785\n",
      "  17.68926481  27.41060691   1.35542094  22.80853244 -19.62263152\n",
      "  28.78481381 -13.71316448 -14.86023919  22.54451399  14.23835931\n",
      " -21.80887546 -29.29459876  23.63387799 -18.05171597 -12.07661927\n",
      "   9.68655458 -12.93548462  -1.84654289 -26.11313262  29.3000963\n",
      "   4.96750089  -4.59022459   0.93070513  -9.9629112   -4.02560423\n",
      " -16.44300791   4.78841239  15.62190059   1.789387     8.43158994\n",
      " -17.45583573  -7.21089778  16.99971899  10.85074508  -2.3342924\n",
      "   4.06972275  17.65263908 -26.44904439   6.17214514 -26.98387178\n",
      "  -5.07750837 -11.70007938  22.4620303  -29.09943008  16.0770234\n",
      "  28.25069636  29.40495556  17.33170153  -3.68048797  -0.10132179\n",
      " -17.1622001    8.60953727 -10.79786535  27.60591602  13.597906\n",
      "  -5.28280751  14.67394699 -13.92316496  -3.60454143  26.00280649\n",
      "  10.99993946 -17.24640814  20.35429442   7.727076   -21.97363509\n",
      " -17.57203622   6.43193667   7.79327093  -7.77139044   4.50886674\n",
      "  -2.91451039 -27.36628048 -28.36889262 -11.23889712 -29.22824552\n",
      "  -6.96196269  10.98695807 -24.4294523  -27.87970056   6.74372888\n",
      "   6.51242167 -29.05441092 -29.01870399 -18.59552466   5.21510831\n",
      " -26.54513461  -7.94591767   7.88706988  13.05806529  11.56016368\n",
      " -24.95525635  -2.73869102  -3.49030219  -8.8049727  -20.78361825\n",
      "  10.53867898  11.95279966  13.65054775  -1.29693714   3.29051918\n",
      " -22.73717322  -2.95476354  12.95297689  23.57049649 -13.61385179\n",
      " -14.71384227  21.93620866 -16.05897776  18.29230465  24.50385261\n",
      " -16.08634091 -15.64124613 -27.01473096 -25.29695551   8.44892459\n",
      " -18.54680578  20.63216993 -19.56598509 -19.75243118  29.65772943\n",
      "  -3.61254858  -9.59712307 -11.14696137  -8.09529678  -6.40562693\n",
      "   5.49151222 -22.81520298 -27.71227219  -2.48412272  22.19204102\n",
      "  26.05419114 -14.13305003 -20.38197965  22.37131542 -15.72718154\n",
      "   8.749875    28.01324525   9.89587272  22.22286155 -29.40436171\n",
      " -21.7794065   19.12534959  -4.19003706  23.41930343  14.09449271\n",
      "  11.2394155   -9.23328194 -20.03791567 -20.66324542 -18.53302131\n",
      "  -4.65290845  21.35854244  -0.58500078  18.95608614  -2.35381011\n",
      "  -2.55873718  -2.9586671   -5.26685634  24.09658949 -29.66496365\n",
      " -12.15565926 -27.05025065  11.5908272    9.00638459  28.97926692\n",
      "   3.16039461  -5.99558905 -18.07268881   7.51206137  14.00176811\n",
      "  -7.4468711  -29.40741223  -4.80853162  15.22017755  17.63230648\n",
      "  25.1974324   20.68329011  -7.93482705   7.24807991  13.87663587\n",
      " -18.3664092   24.28874005   4.15234498   7.90739575 -15.93522268\n",
      "   2.92692753  25.89500115  -9.88815419   9.3318633   -6.48574759\n",
      "   7.63888729  11.94480826  -6.16896277  -5.18226628   9.31277678\n",
      "  20.25510593  -7.70351807  -4.48481049   5.67980229   3.94431432\n",
      "  12.99254384   0.67868689  16.58407272  -0.63927145 -18.84573293\n",
      "  12.03812431  28.96252811  18.39826496  12.2140593   -0.90217684\n",
      " -23.12323073   9.89133403  -8.0775665  -21.59733261   4.00636802\n",
      "  19.38049886  10.43691793  29.9668383   27.69818443 -26.46827007\n",
      "  -8.38132974   2.91076882 -14.29382581   5.84069088 -27.0433202\n",
      "   4.26344966  12.05143399  27.73729552  15.03109392  14.39958272\n",
      "  -4.08759686   8.05595738  18.18158041 -24.96713958  26.72776727\n",
      "  24.95654759   6.11924542 -14.78636528  22.40704833   0.8040426\n",
      "  13.95903895  -4.66640483  27.68219993 -25.67644569   3.20447808\n",
      " -12.48096473  21.47781079  -9.85469168  10.81223102 -26.79333472\n",
      "  -8.60066776  -0.10172424  -3.93356771   3.74750503   6.99726781\n",
      " -23.19960115  23.89510444  15.27308251  17.46739174  18.89712408\n",
      "  10.20023189 -17.94741526 -13.61471031   7.57407832   2.21110169\n",
      " -26.42975694 -24.66229443 -13.72150954  -5.45566105  -1.55751298\n",
      "  24.53936094   5.77482829 -10.26268187  -1.30833446   5.83024676\n",
      " -20.31307471  19.76845505  27.36734438   5.73287971 -28.27510721\n",
      "  18.72706913   6.60681457  12.08955605 -24.46822784  -4.50665152\n",
      "  -7.46540049 -20.03075514  19.98908757  20.31838228  -2.90315824\n",
      "  27.3960829  -21.17080581  22.19597579  16.16618401  -3.35030306\n",
      "   7.23720726  27.10135685   8.40057933 -15.16034226  -8.83788031\n",
      " -18.72837117  -0.56133851  -5.44354025  -2.18846497   6.65661299\n",
      " -25.72989205 -11.14318265   6.50301931 -19.49878908   7.26164601\n",
      " -15.24240397   5.24149291   0.36320723  -2.11326457   2.48513582\n",
      "  26.53959417  -9.4944546   -5.89173945 -11.53872387  -5.30592244\n",
      " -12.84364606  -6.35234333   0.18086913  13.31879078 -11.62748727\n",
      " -23.27017729  -3.4026024   -1.99424687 -29.11986748   9.84311196\n",
      "  13.44370252 -13.10198382 -14.29087931  12.50828429  17.03154137\n",
      "  29.16946839  -1.59943768  24.16913006  -2.93647433  18.27100852\n",
      "  19.73186858 -20.023793    -6.36563968   1.24544906  13.08743834\n",
      "   4.15137113  -2.3516296   -3.2815768  -24.73532363  -3.39100709\n",
      "  -8.02200924 -11.84797089  21.11068184  15.56876327  26.98555708\n",
      "   3.47631054 -29.14601904   5.77062507  18.97234255  28.62554129\n",
      " -16.68551523  12.22102004   1.32365492  25.9738234   12.80126661\n",
      " -16.31766582  -3.02147372 -19.66801827  28.12920859  -8.65703373\n",
      " -27.05719031  15.32031431  23.68876581 -12.83102097 -14.92796722\n",
      "  25.96417148 -22.14105185  26.44917254  12.11119041  20.86058809\n",
      " -17.44370156  -2.69449855 -25.13557649  21.06734406   3.72292059\n",
      " -10.84222222  -7.50604431  22.06774187  -7.66942559 -25.57859666\n",
      " -18.00972026 -27.03040322   4.00258675 -22.68451501   1.32670581\n",
      " -22.97639086  16.19510866  -7.4966522   19.40323222 -27.20183127\n",
      "   5.8747957   26.94902367 -12.67214083  23.32995662 -23.90487131\n",
      " -26.0811296  -15.942016    25.98590511 -26.21232624 -14.14694018\n",
      "  29.97190046 -17.28072225  -0.09541209 -12.57070229  10.36526466\n",
      "  27.47946719  15.99309207   9.96742426 -22.14331067 -13.97574229]\n",
      "Best Fitness -139.9945688692837\n"
     ]
    }
   ],
   "source": [
    "compute(func)"
   ]
  },
  {
   "cell_type": "code",
   "execution_count": 9,
   "metadata": {},
   "outputs": [
    {
     "data": {
      "text/plain": [
       "1214.4103207588196"
      ]
     },
     "execution_count": 9,
     "metadata": {},
     "output_type": "execute_result"
    }
   ],
   "source": [
    "comp_time = end_time-start_time\n",
    "comp_time"
   ]
  },
  {
   "cell_type": "code",
   "execution_count": 10,
   "metadata": {},
   "outputs": [
    {
     "data": {
      "image/png": "[encoded data removed]",
      "text/plain": [
       "<Figure size 432x288 with 1 Axes>"
      ]
     },
     "metadata": {
      "needs_background": "light"
     },
     "output_type": "display_data"
    }
   ],
   "source": [
    "plt.plot(curve)\n",
    "plt.title(\"Shifted Ackley's Function 500\")\n",
    "plt.xlabel(\"Iteration\")\n",
    "plt.ylabel(\"Cost\")\n",
    "plt.show()"
   ]
  },
  {
   "cell_type": "code",
   "execution_count": null,
   "metadata": {},
   "outputs": [],
   "source": []
  }
 ],
 "metadata": {
  "kernelspec": {
   "display_name": "Python 3",
   "language": "python",
   "name": "python3"
  },
  "language_info": {
   "codemirror_mode": {
    "name": "ipython",
    "version": 3
   },
   "file_extension": ".py",
   "mimetype": "text/x-python",
   "name": "python",
   "nbconvert_exporter": "python",
   "pygments_lexer": "ipython3",
   "version": "3.6.12"
  }
 },
 "nbformat": 4,
 "nbformat_minor": 4
}
