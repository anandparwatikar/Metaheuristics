{
 "cells": [
  {
   "cell_type": "code",
   "execution_count": 1,
   "metadata": {},
   "outputs": [],
   "source": [
    "import numpy as np\n",
    "import pandas as pd\n",
    "import os\n",
    "from scipy.optimize import minimize\n",
    "import matplotlib.pyplot as plt\n",
    "import time\n",
    "import pygmo as pg\n",
    "import math"
   ]
  },
  {
   "cell_type": "code",
   "execution_count": 2,
   "metadata": {},
   "outputs": [],
   "source": [
    "dataset = pd.read_csv(\"Rastrigin_dataset_data.csv\")\n",
    "Rastrigin_dataset = dataset[\"val\"].tolist()"
   ]
  },
  {
   "cell_type": "code",
   "execution_count": 3,
   "metadata": {},
   "outputs": [],
   "source": [
    "D = 500\n",
    "f_bias = -330\n",
    "lower_bound = -5\n",
    "upper_bound = 5"
   ]
  },
  {
   "cell_type": "code",
   "execution_count": 4,
   "metadata": {},
   "outputs": [],
   "source": [
    "def func(x):\n",
    "    F = 0\n",
    "    for i in range(D - 1):\n",
    "         z = x[i] - Rastrigin_dataset[i]\n",
    "         F += z ** 2 - 10 * math.cos(2 * math.pi * z) + 10\n",
    "    func = F + f_bias\n",
    "    return func"
   ]
  },
  {
   "cell_type": "code",
   "execution_count": 5,
   "metadata": {},
   "outputs": [],
   "source": [
    "class RAS:\n",
    "    def __init__(self,xmin,xmax,D,f_bias):\n",
    "        self.lower_bound = lower_bound\n",
    "        self.upper_bound = upper_bound\n",
    "        self.dimension = D\n",
    "        self.fitness_per_eval = []\n",
    "        self.glob_opt = f_bias\n",
    "\n",
    "    def fitness(self, x):\n",
    "        #result = abs(func(x)-f_bias)\n",
    "        result = func(x)\n",
    "        return [result]\n",
    "\n",
    "    def get_bounds(self):\n",
    "        x_min = self.lower_bound * np.ones(self.dimension)\n",
    "        x_max = self.upper_bound * np.ones(self.dimension)\n",
    "        return x_min, x_max"
   ]
  },
  {
   "cell_type": "code",
   "execution_count": 6,
   "metadata": {},
   "outputs": [],
   "source": [
    "def compute(func):\n",
    "    global curve\n",
    "    global start_time\n",
    "    global end_time\n",
    "    start_time = time.time()\n",
    "    algo = pg.algorithm(pg.simulated_annealing(Ts=20., Tf=1e-5))\n",
    "    algo.set_verbosity(1)\n",
    "    popsize = 1\n",
    "    prob = pg.problem(RAS(lower_bound,upper_bound,D,f_bias))\n",
    "    pop = pg.population(prob, popsize)\n",
    "    extract_algo = algo.extract(pg.simulated_annealing)\n",
    "    pop = algo.evolve(pop)\n",
    "    end_time = time.time()\n",
    "    \n",
    "    log = extract_algo.get_log()\n",
    "    curve = [x[2] for x in log]\n",
    "    #niter = log[-1][0]\n",
    "    niter = pop.problem.get_fevals()\n",
    "    print(\"Best position: \", pop.champion_x)\n",
    "    print(\"Best Fitness\",pop.champion_f[0])"
   ]
  },
  {
   "cell_type": "code",
   "execution_count": 7,
   "metadata": {},
   "outputs": [
    {
     "name": "stdout",
     "output_type": "stream",
     "text": [
      "Best position:  [ 3.84672538  4.32371417 -2.82158229  0.64705149  4.33805883  2.44090604\n",
      " -3.45892941  2.33714531  3.98002235  4.28973838  1.3793206   3.22518547\n",
      " -0.02346963  3.63251108  4.61392944  0.99568309  1.61051896 -4.72497208\n",
      " -2.69778421  2.03117274 -3.20491194  2.81035872 -1.68276188 -3.22972679\n",
      "  4.41141967 -0.27892467 -4.422022    1.49216974  0.73937612  2.1785091\n",
      " -3.27841636  2.78380923  3.59550113 -4.71900309  1.51235723 -3.6042136\n",
      " -3.20334634  0.46852581 -2.03006942 -0.39891626 -3.77079364  4.96793781\n",
      "  4.32145182  3.35439906 -4.86588877  3.83693979  0.21241946 -4.27480694\n",
      "  3.68379481  3.79233796 -4.08481213  4.41539907 -2.35458306  1.24217915\n",
      "  0.48671924 -2.25371463 -3.34880125  2.67639083 -0.52972253 -3.83067812\n",
      "  3.02212156 -3.09239022  4.19512583 -2.34291114  3.46896737  2.07137503\n",
      "  0.26900981 -2.11834841  1.34706056  0.28669365  2.42015352  3.49878997\n",
      "  1.38969801  0.1159229  -4.67850366 -2.17020733  4.1593981   3.48521791\n",
      "  3.24541699 -3.37728525  4.70004631  2.87324368  2.64064019  1.85786613\n",
      "  4.70960805 -1.12772533 -4.24908598 -0.4557251   1.14738423  1.14090691\n",
      "  4.21867188  1.74730318 -0.37605596 -1.27387094 -0.45877172 -2.2382397\n",
      " -4.85325881  4.58202166  0.18473463  2.25801859 -0.74661048 -4.33010504\n",
      " -2.96892587 -0.93795951 -3.76524373 -1.71295301 -2.51256893 -4.93859648\n",
      "  0.32881018  0.35387009  1.53605019  2.60489537  3.42827045  2.22940186\n",
      " -3.71874205 -0.22124209  4.38106091 -0.56284899 -3.55294158 -3.8260547\n",
      " -1.94964215 -0.74816046 -1.85347789  0.3841499  -3.7866173  -0.90418471\n",
      "  0.29138534  2.71933489  0.47306728 -4.5617459  -4.21029399 -1.17195742\n",
      "  3.7076261  -1.77623878  2.71943683  1.31005127  3.93583562  3.61260588\n",
      " -4.77988228 -3.88003786 -3.16421854  4.25628743  1.68217393 -0.13775979\n",
      "  2.37344788 -0.55082321 -0.02133485 -0.02683523 -2.68968693  3.72202532\n",
      "  1.22890472  3.90569803 -2.05519871  0.51124779  0.87633339 -2.51853015\n",
      "  2.89959672  3.95797521 -4.89243342 -1.07706902  0.48354458 -1.67332069\n",
      " -3.17514822 -2.3099513   1.18611749 -2.64884684  0.05989067 -4.56835612\n",
      "  1.34891858 -1.82931349 -1.00756042 -2.59487953  2.16531077 -0.07510336\n",
      "  4.48049702 -4.78577431  1.27578365  3.51598018  1.62112976  4.69706492\n",
      "  3.26391838  1.95162833 -2.42187617 -0.00740728 -3.9053403  -0.33154669\n",
      "  2.8770701   1.66002751  3.81306108  4.89387908  3.52117608 -0.45722977\n",
      " -3.1632786  -0.42307104 -1.5880152   4.59234549  1.64399696  4.5179341\n",
      "  4.61463088  2.2105496  -3.56498915  2.31509915 -2.49259106  2.1772536\n",
      " -1.64462729 -3.68184679 -3.29928975 -2.22798665 -4.08880489  2.54338259\n",
      "  2.58904843  3.82574466  1.71180247  0.04785191 -1.6370019  -4.28138143\n",
      "  0.96234068  3.21869834  4.63628302 -3.3967234   1.89669708  1.38862321\n",
      " -1.58971236  2.49726151 -2.95165976 -2.04315675  1.14641013 -0.82451868\n",
      " -1.44120256  3.19413247  3.66544205  0.43543087  2.76690436  1.79356694\n",
      " -4.22453534 -1.81491879 -0.5624394   4.03206164  1.94194684 -1.73045466\n",
      "  2.84831684  1.021488    3.62349606 -2.62889109  2.54444463 -2.01901691\n",
      " -3.97553468  2.93652719 -0.10239487 -3.22280072  0.55853691 -3.33169011\n",
      "  2.80069484  1.0532629  -1.27946422 -3.9733017   0.5113298   3.99857019\n",
      "  1.36343557  0.91273045  4.86163418  0.64353472 -3.01048195 -4.27243163\n",
      " -4.27538721 -2.92648334 -0.80821403  0.23896999  2.17778027  3.42414963\n",
      "  1.72866209 -4.49590014 -3.10457729 -4.02959605 -1.00284742  1.54758859\n",
      " -1.27612501  2.25059853  3.58485459  4.45645427  1.12641955  2.40830508\n",
      "  0.54175709 -2.77348766 -1.02912801  2.5814933   3.1042364   2.98057728\n",
      " -4.67229531  0.1360966  -1.23839112  3.18749118 -0.84558594 -3.62645275\n",
      "  1.33279224  3.17073285 -0.37991816  1.04248774 -4.21730134  1.58415335\n",
      "  4.80638941  4.05889299 -3.25139917 -3.24431939 -0.84989494 -1.80128412\n",
      "  4.3438449   1.05066294 -1.05473033  1.5130068   4.89908484 -4.74146729\n",
      " -3.01157862  4.74168938 -4.71358631 -1.45293959 -0.0808271   4.98287544\n",
      "  0.58225688  2.92566833  3.81100941 -0.95510017  0.27450593 -3.60783519\n",
      "  0.2123843   1.45553173 -3.04432582 -2.76533464 -2.55573252  0.32507828\n",
      " -1.85326803  4.66180148  2.64564155 -0.84062673 -4.65046592  1.53120831\n",
      " -1.16211302 -1.8005601  -2.03452459  2.28946562 -2.20255689 -0.68716328\n",
      " -4.51675916 -1.30852875  1.70762739 -4.45721408 -2.10773395 -4.24992969\n",
      " -3.85734958  2.90905481  4.34408867  2.75314819  0.67941763 -2.75553621\n",
      "  2.05606704 -0.45123415 -4.65953538 -1.79451784 -0.14753179  3.39411853\n",
      " -2.06027697  1.40986613 -1.82940925 -1.56399511  4.55939661 -2.44630234\n",
      " -2.62537771  3.84855174 -0.78241677 -0.55039191 -0.73094613 -1.01790733\n",
      "  3.33947535  1.75240679 -0.59033914 -2.80581692  4.76539085 -1.96707432\n",
      " -0.45541754 -4.11932466  1.08126766  4.26998979 -3.14810009  3.20785431\n",
      " -0.16897345  3.33654291 -0.52497429 -3.97887897  0.74537903 -1.36524878\n",
      " -0.03260322 -4.51366206  1.75432012  4.79270306  2.58819983 -0.89341429\n",
      " -1.69396773  1.70698121 -2.83953392 -1.18879093 -1.76945199 -0.76622766\n",
      "  3.95310072  0.39703244  2.77130492  1.81542292 -1.84718053  0.05630592\n",
      " -2.44418804 -4.30781846  0.39181314  2.1251447  -1.49104858 -4.63352437\n",
      "  2.12892151 -4.05856045 -4.62604358  2.29252185 -1.95424306  2.68416052\n",
      "  2.90801446 -2.89865285 -4.59869258  4.87664597 -2.14043129  4.49159356\n",
      " -4.77882504 -3.80469388 -1.62250884  4.74194667  3.65770656  2.3609572\n",
      "  3.99796913  2.31820414 -3.79841041  3.78435577 -3.73670848  0.69265256\n",
      " -2.07245415  1.91396803  3.99265874  3.69404458 -3.34034409  0.27765105\n",
      " -1.54907731 -0.50182839 -0.29175032  0.03274278  4.71153434 -3.63157542\n",
      " -0.12050107 -3.10029238  3.46399176  2.25145098  3.0012172   3.90482244\n",
      "  0.97097176 -2.57198817  2.82497725 -2.63329552  0.14555954 -1.55908525\n",
      " -1.41176226 -3.46139925  1.24459707 -2.16640919  4.97459283  3.96551381\n",
      " -1.58541225  0.7813126   3.63879972 -4.52287902  1.25895047 -2.05918741\n",
      "  2.10708971  3.47771617  1.52439078 -4.95199756 -3.88558417  1.26559052\n",
      " -4.27805921 -0.66986841  0.69746557 -2.97167094 -3.01391277  0.57289314\n",
      "  1.10612106 -2.98376294  0.95601362  1.64618916 -3.32816419  0.65805409\n",
      "  4.1487182   1.98259418 -3.39665364 -4.06557483  3.64063281  4.16619477\n",
      "  1.61762713  4.98000341]\n",
      "Best Fitness -213.57171930960158\n"
     ]
    }
   ],
   "source": [
    "compute(func)"
   ]
  },
  {
   "cell_type": "code",
   "execution_count": 8,
   "metadata": {},
   "outputs": [
    {
     "data": {
      "text/plain": [
       "186.20965576171875"
      ]
     },
     "execution_count": 8,
     "metadata": {},
     "output_type": "execute_result"
    }
   ],
   "source": [
    "comp_time = end_time-start_time\n",
    "comp_time"
   ]
  },
  {
   "cell_type": "code",
   "execution_count": 10,
   "metadata": {},
   "outputs": [
    {
     "data": {
      "image/png": "[encoded data removed]",
      "text/plain": [
       "<Figure size 432x288 with 1 Axes>"
      ]
     },
     "metadata": {
      "needs_background": "light"
     },
     "output_type": "display_data"
    }
   ],
   "source": [
    "plt.plot(curve)\n",
    "plt.title(\"Shifted Rastrigin Function 500\")\n",
    "plt.xlabel(\"Iteration\")\n",
    "plt.ylabel(\"Cost\")\n",
    "plt.show()"
   ]
  },
  {
   "cell_type": "code",
   "execution_count": null,
   "metadata": {},
   "outputs": [],
   "source": []
  }
 ],
 "metadata": {
  "kernelspec": {
   "display_name": "Python 3",
   "language": "python",
   "name": "python3"
  },
  "language_info": {
   "codemirror_mode": {
    "name": "ipython",
    "version": 3
   },
   "file_extension": ".py",
   "mimetype": "text/x-python",
   "name": "python",
   "nbconvert_exporter": "python",
   "pygments_lexer": "ipython3",
   "version": "3.6.12"
  }
 },
 "nbformat": 4,
 "nbformat_minor": 4
}
